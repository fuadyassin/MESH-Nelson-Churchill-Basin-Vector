{
 "cells": [
  {
   "cell_type": "code",
   "execution_count": 34,
   "id": "a3871556-5a72-4f80-a366-825f99334b08",
   "metadata": {},
   "outputs": [],
   "source": [
    "import easymore\n",
    "### load modules\n",
    "import os\n",
    "import numpy as np\n",
    "import xarray as xs\n",
    "import pandas as pd\n",
    "import geopandas as gpd\n",
    "# \n",
    "### define input file\n",
    "input_forcing  = '/scratch/fuaday/ncrb-models/easymore-outputs2/remapped_remapped_ncrb_model_1986122712.nc'\n",
    "output_forcing = '/scratch/fuaday/ncrb-models/easymore-outputs2/MESH_input_ncrb_RDRS_v2p1_1980_1982.nc'\n",
    "input_basin    = '/home/fuaday/scratch/ncrb-models/geofabric-outputs/ncrb-geofabric/ncrb_subbasins.shp'\n",
    "input_ddb      = '/home/fuaday/scratch/ncrb-models/MESH-ncrb/MESH_drainage_database.nc'"
   ]
  },
  {
   "cell_type": "code",
   "execution_count": 35,
   "id": "300927f8-7ce8-4e49-93e4-29f838639bd0",
   "metadata": {},
   "outputs": [],
   "source": [
    "### reading input basin\n",
    "basin = gpd.read_file(input_basin)\n",
    "#\n",
    "### reading input netcdf files db\n",
    "db = xs.open_dataset(input_ddb)\n",
    "db.close()\n",
    "### reading for control check \n",
    "lon = db.variables['lon'].values\n",
    "lat = db.variables['lat'].values\n",
    "segid =  db.variables['subbasin'].values\n",
    "#\n",
    "### reading input forcing\n",
    "forc = xs.open_dataset(input_forcing)\n",
    "forc.close()\n",
    "lon_ease = forc.variables['longitude'].values\n",
    "lat_ease = forc.variables['latitude'].values"
   ]
  },
  {
   "cell_type": "code",
   "execution_count": 36,
   "id": "424bad1d-813e-4f98-a70f-37c8bd66d1c0",
   "metadata": {},
   "outputs": [],
   "source": [
    "# %% extract indices of forcing ids based on the drainage database\n",
    "# Note: the input forcing is arranaged based on COMID of input MeritHydro Catchment \n",
    "# So, a reordering of forcing indices is required to match order Rank1 to RankN in MESH\n",
    "\n",
    "n = len(segid)\n",
    "ind = []\n",
    "\n",
    "for i in range(n):\n",
    "    fid = np.where(np.int32(forc['COMID'].values) == segid[i])[0]\n",
    "    ind = np.append(ind, fid)\n",
    "\n",
    "ind = np.int32(ind) "
   ]
  },
  {
   "cell_type": "code",
   "execution_count": 37,
   "id": "692887b0-16e0-4e0b-95fb-a0fc6bc9c740",
   "metadata": {},
   "outputs": [],
   "source": [
    "forc_vec = xs.Dataset(\n",
    "    {\n",
    "        \"RDRS_v2.1_A_PR0_SFC\": ([\"subbasin\", \"time\"], forc['RDRS_v2.1_A_PR0_SFC'].values[:,ind].transpose()),\n",
    "    },\n",
    "    coords={\n",
    "        \"time\": forc['time'].values.copy(),\n",
    "        \"lon\": ([\"subbasin\"], lon),\n",
    "        \"lat\": ([\"subbasin\"], lat),\n",
    "    }\n",
    "    )\n",
    "forc_vec['RDRS_v2.1_A_PR0_SFC'].attrs[\"long_name\"]      = forc['RDRS_v2.1_A_PR0_SFC'].long_name\n",
    "forc_vec['RDRS_v2.1_A_PR0_SFC'].attrs[\"units\"]          = forc['RDRS_v2.1_A_PR0_SFC'].units\n",
    "forc_vec['RDRS_v2.1_A_PR0_SFC'].attrs[\"grid_mapping\"]   = 'crs'\n",
    "forc_vec['RDRS_v2.1_A_PR0_SFC'].encoding['coordinates'] = 'time lon lat'"
   ]
  },
  {
   "cell_type": "code",
   "execution_count": 38,
   "id": "b17a1704-fdcb-4c4b-b408-886ef2609f45",
   "metadata": {},
   "outputs": [],
   "source": [
    "# for n in ['pr','hus','wind','ps','ta','rsds','rlds']:\t\n",
    "for n in ['RDRS_v2.1_P_P0_SFC','RDRS_v2.1_P_HU_09944','RDRS_v2.1_P_TT_09944',\n",
    "          'RDRS_v2.1_P_FB_SFC','RDRS_v2.1_P_FI_SFC','RDRS_v2.1_P_UVC_09944']:   \n",
    "    forc_vec[n] = ((\"subbasin\", \"time\"), forc[n].values[: , ind].transpose())\n",
    "    forc_vec[n].coords[\"time\"]          = forc['time'].values.copy()\n",
    "    forc_vec[n].coords[\"lon\"]           = ([\"subbasin\"], lon)\n",
    "    forc_vec[n].coords[\"lat\"]           = ([\"subbasin\"], lat)\n",
    "    forc_vec[n].attrs[\"long_name\"]      = forc[n].long_name\n",
    "    forc_vec[n].attrs[\"units\"]          = forc[n].units\n",
    "    forc_vec[n].attrs[\"grid_mapping\"]   = 'crs'\n",
    "    forc_vec[n].encoding['coordinates'] = 'time lon lat'"
   ]
  },
  {
   "cell_type": "code",
   "execution_count": 39,
   "id": "24214377-005b-4409-9b41-852136f7a03d",
   "metadata": {},
   "outputs": [],
   "source": [
    "### update meta data attribuetes\n",
    "forc_vec.attrs['Conventions'] = 'CF-1.6'\n",
    "forc_vec.attrs['License']     = 'The data were written by Fuad Yassin.'\n",
    "forc_vec.attrs['history']     = 'Created on Apr 06, 2024'\n",
    "forc_vec.attrs['featureType'] = 'timeSeries'         \n",
    "###\n",
    "# editing lat attribute\n",
    "forc_vec['lat'].attrs['standard_name'] = 'latitude'\n",
    "forc_vec['lat'].attrs['units']         = 'degrees_north'\n",
    "forc_vec['lat'].attrs['axis']          = 'Y'\n",
    "###  \n",
    "# editing lon attribute\n",
    "forc_vec['lon'].attrs['standard_name'] = 'longitude'\n",
    "forc_vec['lon'].attrs['units']         = 'degrees_east'\n",
    "forc_vec['lon'].attrs['axis']          = 'X'\n",
    "### \n",
    "# editing time attribute\n",
    "forc_vec['time'].attrs['standard_name'] = 'time'\n",
    "forc_vec['time'].attrs['axis']          = 'T'\n",
    "forc_vec['time'].encoding['calendar']   = 'gregorian'\n",
    "forc_vec.encoding.update(unlimited_dims = 'time')"
   ]
  },
  {
   "cell_type": "code",
   "execution_count": 40,
   "id": "ee47be93-1f19-49d9-8665-822cbbde23d4",
   "metadata": {},
   "outputs": [],
   "source": [
    "### coordinate system (Add the 'crs' itself (if none found)).\n",
    "if (forc.variables.get('crs') is None):\n",
    "   forc_vec['crs'] = ([], np.int32(1))\n",
    "   forc_vec['crs'].attrs.update(grid_mapping_name = 'latitude_longitude', longitude_of_prime_meridian = 0.0, semi_major_axis = 6378137.0, inverse_flattening = 298.257223563)\n",
    "else:\n",
    "   forc_vec['crs'] = forc['crs'].copy()"
   ]
  },
  {
   "cell_type": "code",
   "execution_count": 41,
   "id": "881f0da3-41dd-421b-b13e-dca946674e2e",
   "metadata": {},
   "outputs": [],
   "source": [
    "### Define a variable for the points and set the 'timeseries_id' (required for some viewers).\n",
    "forc_vec['subbasin'] = (['subbasin'], db['subbasin'].values.astype(np.int32).astype('S20'))\n",
    "forc_vec['subbasin'].attrs['cf_role'] = 'timeseries_id'\n",
    "## \n",
    "### save to netcdf\n",
    "comp = dict(zlib=True, complevel=6)\n",
    "encoding = {var: comp for var in forc_vec.data_vars}\n",
    "forc_vec.to_netcdf(output_forcing, encoding=encoding)"
   ]
  }
 ],
 "metadata": {
  "kernelspec": {
   "display_name": "scienv",
   "language": "python",
   "name": "scienv"
  },
  "language_info": {
   "codemirror_mode": {
    "name": "ipython",
    "version": 3
   },
   "file_extension": ".py",
   "mimetype": "text/x-python",
   "name": "python",
   "nbconvert_exporter": "python",
   "pygments_lexer": "ipython3",
   "version": "3.10.2"
  }
 },
 "nbformat": 4,
 "nbformat_minor": 5
}
