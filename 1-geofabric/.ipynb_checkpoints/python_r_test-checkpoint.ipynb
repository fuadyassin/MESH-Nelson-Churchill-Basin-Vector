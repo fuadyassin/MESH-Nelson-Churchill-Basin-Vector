{
 "cells": [
  {
   "cell_type": "code",
   "execution_count": 2,
   "metadata": {},
   "outputs": [
    {
     "name": "stdout",
     "output_type": "stream",
     "text": [
      "   Unnamed: 0  result\n",
      "0           1       3\n"
     ]
    }
   ],
   "source": [
    "import subprocess\n",
    "import pandas as pd\n",
    "import os\n",
    "\n",
    "# Define input data and output file path\n",
    "input_data = [1, 2, 3, 4, 5]\n",
    "output_file = \"output.csv\"\n",
    "input_data_str = \",\".join(map(str, input_data))\n",
    "\n",
    "# Set the R_LIBS environment variable to include the custom library paths\n",
    "# Full path to Rscript executable\n",
    "rscript_path = \"/cvmfs/soft.computecanada.ca/easybuild/software/2020/avx2/Core/r/4.3.1/bin/Rscript\"\n",
    "\n",
    "# Run the R script with input data and output file path as arguments\n",
    "result = subprocess.run([\n",
    "    rscript_path,\n",
    "    \"my_r_script.R\",\n",
    "    input_data_str,\n",
    "    output_file\n",
    "], capture_output=True, text=True)\n",
    "\n",
    "# Check if the script executed successfully\n",
    "if result.returncode != 0:\n",
    "    print(\"Error in R script execution\")\n",
    "    print(result.stderr)\n",
    "else:\n",
    "    # Read the output file into a pandas DataFrame\n",
    "    df = pd.read_csv(output_file)\n",
    "    # Display the DataFrame\n",
    "    print(df)\n"
   ]
  },
  {
   "cell_type": "code",
   "execution_count": null,
   "metadata": {},
   "outputs": [],
   "source": [
    "!Rscript --version"
   ]
  },
  {
   "cell_type": "code",
   "execution_count": null,
   "metadata": {},
   "outputs": [],
   "source": []
  }
 ],
 "metadata": {
  "kernelspec": {
   "display_name": "scienv",
   "language": "python",
   "name": "scienv"
  },
  "language_info": {
   "codemirror_mode": {
    "name": "ipython",
    "version": 3
   },
   "file_extension": ".py",
   "mimetype": "text/x-python",
   "name": "python",
   "nbconvert_exporter": "python",
   "pygments_lexer": "ipython3",
   "version": "3.10.2"
  },
  "vscode": {
   "interpreter": {
    "hash": "9b271b39875848de38483eb62c29138594d92c4575023a90ae6ab83d843ef02c"
   }
  }
 },
 "nbformat": 4,
 "nbformat_minor": 4
}
